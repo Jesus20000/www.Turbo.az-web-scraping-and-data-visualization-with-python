{
 "cells": [
  {
   "cell_type": "markdown",
   "id": "6d25a794",
   "metadata": {},
   "source": [
    "# 1. Importing libraries and web scraping"
   ]
  },
  {
   "cell_type": "code",
   "execution_count": 1,
   "id": "788a688e",
   "metadata": {},
   "outputs": [],
   "source": [
    "import matplotlib.pyplot as plt\n",
    "from bs4 import BeautifulSoup\n",
    "import seaborn as sns\n",
    "import pandas as pd\n",
    "import requests\n",
    "import re "
   ]
  },
  {
   "cell_type": "code",
   "execution_count": 2,
   "id": "bb7da88a",
   "metadata": {},
   "outputs": [],
   "source": [
    "headers = {\n",
    "    'User-Agent': 'Mozilla/5.0 (X11; CrOS x86_64 8172.45.0) AppleWebKit/537.36 (KHTML, like Gecko) Chrome/51.0.2704.64 Safari/537.36',\n",
    "    'Accept-Language': 'en-US, en;q=0.5'\n",
    "}\n",
    "car_results = []\n"
   ]
  },
  {
   "cell_type": "code",
   "execution_count": 3,
   "id": "53e61537",
   "metadata": {},
   "outputs": [],
   "source": [
    "# Loop through pages 1 to 10\n",
    "for page_number in range(1,10):\n",
    "    url = f'https://turbo.az/autos?page={page_number}'\n",
    "    response = requests.get(url, headers=headers)\n",
    "    soup = BeautifulSoup(response.text, 'html.parser')\n",
    "\n",
    "    for el in soup.find_all('div', {'class' : 'products-i__bottom'}):\n",
    "        \n",
    "        car_results.append({\n",
    "        'name' : el.find('div', {'class': 'products-i__name products-i__bottom-text'}).text,\n",
    "        'price' : el.find('div',{'class':'products-i__price products-i__bottom-text'}).text.strip(),\n",
    "        'currency' : el.find('div',{'class':'products-i__price products-i__bottom-text'}).text.replace(' ','').strip()[-1],\n",
    "        'price' : el.find('div',{'class':'products-i__price products-i__bottom-text'}).text.replace(' ','').strip()[:-1],\n",
    "        'year' : el.find('div', {'class': 'products-i__attributes products-i__bottom-text'}).text.split(',')[0].strip(),\n",
    "        'engine_power' : el.find('div', {'class': 'products-i__attributes products-i__bottom-text'}).text.split(',')[1].strip(),\n",
    "        'km' : el.find('div', {'class': 'products-i__attributes products-i__bottom-text'}).text.split(',')[2].strip()\n",
    "        })\n",
    "        \n",
    "# Create DataFrame from the collected results\n",
    "cars = pd.DataFrame(car_results)"
   ]
  },
  {
   "cell_type": "code",
   "execution_count": 4,
   "id": "35b5d094",
   "metadata": {
    "scrolled": true
   },
   "outputs": [
    {
     "data": {
      "text/html": [
       "<div>\n",
       "<style scoped>\n",
       "    .dataframe tbody tr th:only-of-type {\n",
       "        vertical-align: middle;\n",
       "    }\n",
       "\n",
       "    .dataframe tbody tr th {\n",
       "        vertical-align: top;\n",
       "    }\n",
       "\n",
       "    .dataframe thead th {\n",
       "        text-align: right;\n",
       "    }\n",
       "</style>\n",
       "<table border=\"1\" class=\"dataframe\">\n",
       "  <thead>\n",
       "    <tr style=\"text-align: right;\">\n",
       "      <th></th>\n",
       "      <th>name</th>\n",
       "      <th>price</th>\n",
       "      <th>currency</th>\n",
       "      <th>year</th>\n",
       "      <th>engine_power</th>\n",
       "      <th>km</th>\n",
       "    </tr>\n",
       "  </thead>\n",
       "  <tbody>\n",
       "    <tr>\n",
       "      <th>0</th>\n",
       "      <td>Land Rover Range Rover</td>\n",
       "      <td>98000</td>\n",
       "      <td>$</td>\n",
       "      <td>2018</td>\n",
       "      <td>3.0 L</td>\n",
       "      <td>35 000 km</td>\n",
       "    </tr>\n",
       "    <tr>\n",
       "      <th>1</th>\n",
       "      <td>Volkswagen ID.6</td>\n",
       "      <td>39999</td>\n",
       "      <td>$</td>\n",
       "      <td>2023</td>\n",
       "      <td>0.0 L</td>\n",
       "      <td>0 km</td>\n",
       "    </tr>\n",
       "    <tr>\n",
       "      <th>2</th>\n",
       "      <td>Land Rover RR Sport</td>\n",
       "      <td>165000</td>\n",
       "      <td>$</td>\n",
       "      <td>2023</td>\n",
       "      <td>3.0 L</td>\n",
       "      <td>0 km</td>\n",
       "    </tr>\n",
       "    <tr>\n",
       "      <th>3</th>\n",
       "      <td>Land Rover Range Rover</td>\n",
       "      <td>122000</td>\n",
       "      <td>$</td>\n",
       "      <td>2019</td>\n",
       "      <td>5.0 L</td>\n",
       "      <td>47 000 km</td>\n",
       "    </tr>\n",
       "    <tr>\n",
       "      <th>4</th>\n",
       "      <td>Toyota Land Cruiser</td>\n",
       "      <td>26500AZ</td>\n",
       "      <td>N</td>\n",
       "      <td>2001</td>\n",
       "      <td>4.2 L</td>\n",
       "      <td>452 000 km</td>\n",
       "    </tr>\n",
       "  </tbody>\n",
       "</table>\n",
       "</div>"
      ],
      "text/plain": [
       "                     name    price currency  year engine_power          km\n",
       "0  Land Rover Range Rover    98000        $  2018        3.0 L   35 000 km\n",
       "1         Volkswagen ID.6    39999        $  2023        0.0 L        0 km\n",
       "2     Land Rover RR Sport   165000        $  2023        3.0 L        0 km\n",
       "3  Land Rover Range Rover   122000        $  2019        5.0 L   47 000 km\n",
       "4     Toyota Land Cruiser  26500AZ        N  2001        4.2 L  452 000 km"
      ]
     },
     "execution_count": 4,
     "metadata": {},
     "output_type": "execute_result"
    }
   ],
   "source": [
    "cars.head()"
   ]
  },
  {
   "cell_type": "code",
   "execution_count": 5,
   "id": "201d05d7",
   "metadata": {},
   "outputs": [
    {
     "name": "stdout",
     "output_type": "stream",
     "text": [
      "<class 'pandas.core.frame.DataFrame'>\n",
      "RangeIndex: 324 entries, 0 to 323\n",
      "Data columns (total 6 columns):\n",
      " #   Column        Non-Null Count  Dtype \n",
      "---  ------        --------------  ----- \n",
      " 0   name          324 non-null    object\n",
      " 1   price         324 non-null    object\n",
      " 2   currency      324 non-null    object\n",
      " 3   year          324 non-null    object\n",
      " 4   engine_power  324 non-null    object\n",
      " 5   km            324 non-null    object\n",
      "dtypes: object(6)\n",
      "memory usage: 15.3+ KB\n"
     ]
    }
   ],
   "source": [
    "cars.info()"
   ]
  },
  {
   "cell_type": "markdown",
   "id": "90451689",
   "metadata": {},
   "source": [
    "# 2. Data Cleaning"
   ]
  },
  {
   "cell_type": "code",
   "execution_count": 6,
   "id": "c443f491",
   "metadata": {},
   "outputs": [],
   "source": [
    "# 1. In the 'price' column, replace 'AZ' and split\n",
    "cars['price'] = cars['price'].str.replace('AZ', '').astype(int)\n",
    "\n",
    "# 2. In the 'currency' column, replace 'N' with ₼\n",
    "cars['currency'] = cars['currency'].replace('N', '₼')\n",
    "\n",
    "# 3. In the 'engine_power' column, replace '2.0 L' format and remove 'L'\n",
    "cars['engine_power'] = cars['engine_power'].replace({'L': ''}, regex=True)\n",
    "\n",
    "# 4. In the 'km' column, remove 'km' from all rows\n",
    "cars['km'] = cars['km'].str.replace('km', '')"
   ]
  },
  {
   "cell_type": "code",
   "execution_count": 7,
   "id": "00d48745",
   "metadata": {},
   "outputs": [],
   "source": [
    "# Define conversion factors\n",
    "currency_conversion_factors = {'₼': 1, '$': 1.7, '€': 1.83}\n",
    "\n",
    "# Create a new column 'price_azn' by converting 'price' based on 'currency'\n",
    "cars['price_azn'] = cars.apply(lambda row: row['price'] * currency_conversion_factors.get(row['currency'], 1), axis=1)"
   ]
  },
  {
   "cell_type": "code",
   "execution_count": 8,
   "id": "34010368",
   "metadata": {},
   "outputs": [],
   "source": [
    "# Remove the 'price' and 'currency' columns\n",
    "cars = cars.drop(['price', 'currency'], axis=1)"
   ]
  },
  {
   "cell_type": "code",
   "execution_count": 9,
   "id": "0169fcb2",
   "metadata": {},
   "outputs": [],
   "source": [
    "# Modify 'year' column\n",
    "# Assuming 'year' column contains years in string format\n",
    "cars['year'] = cars['year'].astype(int)\n",
    "cars['engine_power'] = cars['engine_power'].astype(float)"
   ]
  },
  {
   "cell_type": "code",
   "execution_count": 10,
   "id": "8e28d820",
   "metadata": {},
   "outputs": [],
   "source": [
    "# Multiply 'engine_power' column by 1000 and rename it to 'engine_power (cm3)'\n",
    "cars['engine_power (cm3)'] = (cars['engine_power'] * 1000).astype(int)\n",
    "cars = cars.drop('engine_power', axis=1)"
   ]
  },
  {
   "cell_type": "code",
   "execution_count": 11,
   "id": "cbcd4096",
   "metadata": {},
   "outputs": [
    {
     "data": {
      "text/html": [
       "<div>\n",
       "<style scoped>\n",
       "    .dataframe tbody tr th:only-of-type {\n",
       "        vertical-align: middle;\n",
       "    }\n",
       "\n",
       "    .dataframe tbody tr th {\n",
       "        vertical-align: top;\n",
       "    }\n",
       "\n",
       "    .dataframe thead th {\n",
       "        text-align: right;\n",
       "    }\n",
       "</style>\n",
       "<table border=\"1\" class=\"dataframe\">\n",
       "  <thead>\n",
       "    <tr style=\"text-align: right;\">\n",
       "      <th></th>\n",
       "      <th>name</th>\n",
       "      <th>year</th>\n",
       "      <th>km</th>\n",
       "      <th>price_azn</th>\n",
       "      <th>engine_power (cm3)</th>\n",
       "    </tr>\n",
       "  </thead>\n",
       "  <tbody>\n",
       "    <tr>\n",
       "      <th>0</th>\n",
       "      <td>Land Rover Range Rover</td>\n",
       "      <td>2018</td>\n",
       "      <td>35 000</td>\n",
       "      <td>166600.0</td>\n",
       "      <td>3000</td>\n",
       "    </tr>\n",
       "    <tr>\n",
       "      <th>1</th>\n",
       "      <td>Volkswagen ID.6</td>\n",
       "      <td>2023</td>\n",
       "      <td>0</td>\n",
       "      <td>67998.3</td>\n",
       "      <td>0</td>\n",
       "    </tr>\n",
       "    <tr>\n",
       "      <th>2</th>\n",
       "      <td>Land Rover RR Sport</td>\n",
       "      <td>2023</td>\n",
       "      <td>0</td>\n",
       "      <td>280500.0</td>\n",
       "      <td>3000</td>\n",
       "    </tr>\n",
       "    <tr>\n",
       "      <th>3</th>\n",
       "      <td>Land Rover Range Rover</td>\n",
       "      <td>2019</td>\n",
       "      <td>47 000</td>\n",
       "      <td>207400.0</td>\n",
       "      <td>5000</td>\n",
       "    </tr>\n",
       "    <tr>\n",
       "      <th>4</th>\n",
       "      <td>Toyota Land Cruiser</td>\n",
       "      <td>2001</td>\n",
       "      <td>452 000</td>\n",
       "      <td>26500.0</td>\n",
       "      <td>4200</td>\n",
       "    </tr>\n",
       "  </tbody>\n",
       "</table>\n",
       "</div>"
      ],
      "text/plain": [
       "                     name  year        km  price_azn  engine_power (cm3)\n",
       "0  Land Rover Range Rover  2018   35 000    166600.0                3000\n",
       "1         Volkswagen ID.6  2023        0     67998.3                   0\n",
       "2     Land Rover RR Sport  2023        0    280500.0                3000\n",
       "3  Land Rover Range Rover  2019   47 000    207400.0                5000\n",
       "4     Toyota Land Cruiser  2001  452 000     26500.0                4200"
      ]
     },
     "execution_count": 11,
     "metadata": {},
     "output_type": "execute_result"
    }
   ],
   "source": [
    "cars.head()"
   ]
  },
  {
   "cell_type": "markdown",
   "id": "295e6537",
   "metadata": {},
   "source": [
    "# 3. Data Visualization"
   ]
  },
  {
   "cell_type": "code",
   "execution_count": 12,
   "id": "e77d8606",
   "metadata": {},
   "outputs": [
    {
     "data": {
      "image/png": "[encoded data removed]",
      "text/plain": [
       "<Figure size 720x432 with 1 Axes>"
      ]
     },
     "metadata": {
      "needs_background": "light"
     },
     "output_type": "display_data"
    }
   ],
   "source": [
    "# Histogram of 'price_azn' column\n",
    "plt.figure(figsize=(10, 6))\n",
    "plt.hist(cars['price_azn'], bins=20, color='skyblue', edgecolor='black')\n",
    "plt.title('Distribution of Prices in AZN')\n",
    "plt.xlabel('Price (AZN)')\n",
    "plt.ylabel('Frequency')\n",
    "plt.show()"
   ]
  },
  {
   "cell_type": "code",
   "execution_count": 13,
   "id": "fbd15a27",
   "metadata": {},
   "outputs": [
    {
     "data": {
      "image/png": "[encoded data removed]",
      "text/plain": [
       "<Figure size 864x432 with 1 Axes>"
      ]
     },
     "metadata": {
      "needs_background": "light"
     },
     "output_type": "display_data"
    }
   ],
   "source": [
    "# Group by 'year' and count the number of cars in each year\n",
    "car_count_by_year = cars['year'].value_counts().sort_index()\n",
    "\n",
    "# Bar chart of car count by year with enhanced visualization\n",
    "plt.figure(figsize=(12, 6))\n",
    "sns.barplot(x=car_count_by_year.index, y=car_count_by_year.values, color='skyblue', edgecolor='black')\n",
    "plt.title('Number of Cars Over Time')\n",
    "plt.xlabel('Year')\n",
    "plt.ylabel('Number of Cars')\n",
    "plt.xticks(rotation=45, ha='right', fontsize=10)  # Rotate x-axis labels for better readability\n",
    "plt.yticks(fontsize=10)\n",
    "plt.grid(axis='y', linestyle='--', alpha=0.7, which='both')\n",
    "plt.tight_layout() \n",
    "plt.show()"
   ]
  },
  {
   "cell_type": "code",
   "execution_count": 14,
   "id": "61f12213",
   "metadata": {},
   "outputs": [
    {
     "data": {
      "image/png": "[encoded data removed]",
      "text/plain": [
       "<Figure size 864x432 with 1 Axes>"
      ]
     },
     "metadata": {
      "needs_background": "light"
     },
     "output_type": "display_data"
    }
   ],
   "source": [
    "# Create bins for 'engine_power (cm3)'\n",
    "bins = [i for i in range(0, int(cars['engine_power (cm3)'].max()) + 1000, 1000)]\n",
    "\n",
    "# Histogram of 'engine_power (cm3)'\n",
    "plt.figure(figsize=(12, 6))\n",
    "sns.histplot(cars['engine_power (cm3)'], bins=bins, color='skyblue', edgecolor='black', kde=False)\n",
    "plt.title('Distribution of Engine Power (cm3)')\n",
    "plt.xlabel('Engine Power (cm3)')\n",
    "plt.ylabel('Frequency')\n",
    "plt.grid(axis='y', linestyle='--', alpha=0.7)\n",
    "plt.tight_layout()\n",
    "plt.show()"
   ]
  }
 ],
 "metadata": {
  "kernelspec": {
   "display_name": "Python 3 (ipykernel)",
   "language": "python",
   "name": "python3"
  },
  "language_info": {
   "codemirror_mode": {
    "name": "ipython",
    "version": 3
   },
   "file_extension": ".py",
   "mimetype": "text/x-python",
   "name": "python",
   "nbconvert_exporter": "python",
   "pygments_lexer": "ipython3",
   "version": "3.9.7"
  }
 },
 "nbformat": 4,
 "nbformat_minor": 5
}
